{
 "cells": [
  {
   "cell_type": "code",
   "execution_count": null,
   "metadata": {
    "code_folding": [],
    "collapsed": true
   },
   "outputs": [],
   "source": [
    "# to disable warning messages.\n",
    "import warnings\n",
    "warnings.filterwarnings('ignore')"
   ]
  },
  {
   "cell_type": "code",
   "execution_count": null,
   "metadata": {
    "code_folding": [],
    "nbpresent": {
     "id": "5d20cc28-df36-49a6-bd77-ab36ff26b72d"
    }
   },
   "outputs": [],
   "source": [
    "#\n",
    "import Omics.OmicsData as OD\n",
    "import os\n",
    "#import docx\n",
    "\n",
    "import seaborn as sns; sns.set()\n",
    "\n",
    "import hypertools as hyp\n",
    "import matplotlib.pyplot as plt \n",
    "plt.rcParams['figure.figsize'] = (6, 6)\n",
    "plt.grid(True)\n",
    "%matplotlib notebook\n",
    "RS = 20170628\n",
    "\n",
    "import numpy as np\n",
    "import pandas as pd\n",
    "from sklearn.manifold import TSNE\n",
    "from sklearn.cluster import KMeans, FeatureAgglomeration\n",
    "from sklearn.metrics import silhouette_score, calinski_harabaz_score\n",
    "\n",
    "from sklearn.discriminant_analysis import LinearDiscriminantAnalysis\n",
    "from sklearn.linear_model import SGDClassifier, LogisticRegression, RidgeClassifier\n",
    "from sklearn.ensemble import RandomForestClassifier, ExtraTreesClassifier, AdaBoostClassifier, IsolationForest\n",
    "from sklearn.tree  import DecisionTreeClassifier\n",
    "import xgboost as xgb\n",
    "from sklearn.neighbors import KNeighborsClassifier\n",
    "from sklearn import svm\n",
    "from sklearn.model_selection import KFold, StratifiedKFold, cross_val_score"
   ]
  },
  {
   "cell_type": "markdown",
   "metadata": {
    "nbpresent": {
     "id": "77d3fae9-661e-437a-9a40-c43e2eb0c9bb"
    }
   },
   "source": [
    "#### Run this cell if there are OD import errors, or there has been an update in OmicsData.py"
   ]
  },
  {
   "cell_type": "code",
   "execution_count": null,
   "metadata": {
    "code_folding": [],
    "collapsed": true,
    "nbpresent": {
     "id": "f35e6a8a-0eb1-4f64-8561-8423904f5f95"
    }
   },
   "outputs": [],
   "source": [
    "#import importlib\n",
    "#importlib.reload(OD)\n",
    "\n"
   ]
  },
  {
   "cell_type": "markdown",
   "metadata": {
    "nbpresent": {
     "id": "9725ff96-da07-4b3e-9d9c-d6ac3d13afd1"
    }
   },
   "source": [
    "#### To see the value of multiple statements within a cell at once."
   ]
  },
  {
   "cell_type": "code",
   "execution_count": null,
   "metadata": {
    "collapsed": true,
    "nbpresent": {
     "id": "7bdb9605-56f0-4799-b887-40e26dc5e201"
    }
   },
   "outputs": [],
   "source": [
    "from IPython.core.interactiveshell import InteractiveShell\n",
    "InteractiveShell.ast_node_interactivity = \"all\""
   ]
  },
  {
   "cell_type": "markdown",
   "metadata": {
    "nbpresent": {
     "id": "7ecd017d-4aee-4422-aadd-2823c7ee646d"
    }
   },
   "source": [
    "#### Select a cancer type and class variable for Analysis. That is, choose a value for the variables 'CancerType' and 'ClassVar' below.  We get samples related to the chosen cancer type from 'CancerDataStore' in the data frame 'dfCancerType'. "
   ]
  },
  {
   "cell_type": "code",
   "execution_count": null,
   "metadata": {
    "code_folding": [],
    "nbpresent": {
     "id": "b31101fb-af0c-4c9c-8afe-bed4ca91ff70"
    }
   },
   "outputs": [],
   "source": [
    "# Following is the list of all cancer types. Choose the ones that you want to perform the analysis on. \n",
    "#'TCGA-ACC', 'TCGA-BLCA', 'TCGA-BRCA', 'TCGA-CESC', 'TCGA-CHOL', 'TCGA-COAD', 'TCGA-DLBC', \n",
    "#'TCGA-ESCA', 'TCGA-GBM', 'TCGA-HNSC', 'TCGA-KICH', 'TCGA-KIRC', 'TCGA-KIRP', 'TCGA-LGG', \n",
    "#'TCGA-LIHC', 'TCGA-LUAD', 'TCGA-LUSC', 'TCGA-MESO', 'TCGA-OV', 'TCGA-PAAD', 'TCGA-PCPG', \n",
    "#'TCGA-PRAD', 'TCGA-READ', 'TCGA-SARC', 'TCGA-SKCM', 'TCGA-STAD', 'TCGA-TGCT', 'TCGA-THCA', \n",
    "#'TCGA-THYM', 'TCGA-UCEC', 'TCGA-UCS', 'TCGA-UVM']\n",
    "CancerType = 'TCGA-KIRC'\n",
    "\n",
    "# Chose one of the following as class variable.\n",
    "# CancerStatus TumorStage TumorStageMerged Race Gender HyperMut\n",
    "ClassVar = 'TumorStage'\n",
    "\n",
    "CancerDataStore = pd.HDFStore('data/CancerDataStore.h5')\n",
    "dfCancerType = CancerDataStore.get(CancerType.split('-')[1])\n",
    "CancerDataStore.close()\n",
    "#print(\"Number of samples in the dataset before removing missing values: {0}\".format(dfCancerType.shape[0])) \n",
    "#OD.printNaNs(dfCancerType)\n",
    "print(\"Cancer Type: \" + '\\033[1m{:10s}\\033[0m'.format(CancerType))\n",
    "totalsamples = dfCancerType.shape[0]\n",
    "#print(\"Number of samples in the dataset: {0}\".format(totalsamples)) \n",
    "dfCancerType = OD.dropNaNs(dfCancerType, ClassVar)\n",
    "\n",
    "if totalsamples > dfCancerType.shape[0]:\n",
    "    print(\"Number of samples in the dataset after removing missing values: {0}\".format(dfCancerType.shape[0]))"
   ]
  },
  {
   "cell_type": "markdown",
   "metadata": {
    "nbpresent": {
     "id": "7b52bff9-5172-434f-883e-25d05e5c40e4"
    }
   },
   "source": [
    "#### Now, we filter the data based on the class variable we're interested in. Only 'Primary solid Tumor' samples are used, unless the class variable is CancerStatus, in which case all samples wil be used."
   ]
  },
  {
   "cell_type": "code",
   "execution_count": null,
   "metadata": {
    "code_folding": [],
    "nbpresent": {
     "id": "488097a4-0464-4d1a-8d66-c4bc0aa4f85a"
    }
   },
   "outputs": [],
   "source": [
    "# Print information about data\n",
    "dfAnalysis = dfCancerType.copy()\n",
    "ClassVarLevelsFreqTab, ClassVarLevelsSorted = OD.returnVarLevelsSorted(dfAnalysis,ClassVar)\n",
    "totalsamples = dfAnalysis.shape[0]\n",
    "print(\"Cancer Type: \" + '\\033[1m{:10s}\\033[0m'.format(CancerType))\n",
    "print(\"Variable for analysis: \" + '\\033[1m{:10s}\\033[0m'.format(ClassVar))\n",
    "print(\"Total samples: \" + '\\033[1m{:d}\\033[0m'.format(totalsamples))\n",
    "ClassVarLevelsFreqTab\n",
    "\n",
    "#print(\"{:_<17} : {:5d}\".format('Total samples',ClassVarLevelsFreqTab.Frequency.sum()))\n",
    "\n",
    "# Keep samples related to Tumor cells only if CancerStatus is not the class var. \n",
    "if ClassVar != 'CancerStatus':\n",
    "    toKeep = ['Primary solid Tumor']\n",
    "    print(\"\\nKeeping samples concerning 'Primary solid Tumor' only.\")\n",
    "    dfAnalysis = OD.FilterLevels(dfAnalysis, 'CancerStatus', toKeep, printStats='no')\n",
    "\n",
    "# if previous if has been True, we need to print updated stats    \n",
    "if totalsamples > dfAnalysis.shape[0]:\n",
    "    print(\"Updated, number of samples in the dataset:\" + '\\033[1m{:d}\\033[0m'.format(dfAnalysis.shape[0])) \n",
    "    ClassVarLevelsFreqTab, ClassVarLevelsSorted = OD.returnVarLevelsSorted(dfAnalysis,ClassVar)\n",
    "    ClassVarLevelsFreqTab\n",
    "    \n",
    "# sometimes ClassVar is'not reported' for some samples. We need to remove those as well.\n",
    "# and print the updated stats and also update the dataset.\n",
    "if 'not reported' in ClassVarLevelsSorted:\n",
    "    notReported = sum(ClassVarLevelsFreqTab[ClassVarLevelsFreqTab[ClassVar] == 'not reported']['Frequency'])\n",
    "    print(\"\\nRemoved {0} samples where '{1}' is 'not reported'.\".format(notReported, ClassVar))\n",
    "    dfAnalysis.drop(dfAnalysis.index[dfAnalysis[ClassVar] == 'not reported'], inplace= True)\n",
    "    print(\"Now, there are \" + '\\033[1m' + str(dfAnalysis.shape[0]) + '\\033[0m' + \" samples in the dataset.\")#.format(dfAnalysis.shape[0]))\n",
    "    ClassVarLevelsFreqTab, ClassVarLevelsSorted = OD.returnVarLevelsSorted(dfAnalysis,ClassVar)\n",
    "    ClassVarLevelsFreqTab\n",
    "    \n",
    "print(\"\\nVarLevelsToKeep = {0}\".format(ClassVarLevelsSorted))\n",
    "print(\"\\nThese two levels of '{0}' will be kept for further analysis: {1}\".format(ClassVar, ClassVarLevelsSorted[0:2]))\n",
    "VarLevelsToKeep = ClassVarLevelsSorted[0:2]\n",
    "    "
   ]
  },
  {
   "cell_type": "markdown",
   "metadata": {
    "nbpresent": {
     "id": "177da7ad-3ca2-4ce1-86b2-6c79e2c921fd"
    }
   },
   "source": [
    "#### By default, we keep only the top two levels of the ClassVar for further analysis. However, one can select different pairs/sets of ClassVar levels for the analysis. If so, specify the levels of interest below (VarLevelsToKeep)"
   ]
  },
  {
   "cell_type": "code",
   "execution_count": null,
   "metadata": {
    "code_folding": [
     24
    ],
    "nbpresent": {
     "id": "46ad14fc-2525-46ba-be59-27d43e210a92"
    }
   },
   "outputs": [],
   "source": [
    "# OPTIONAL: specify which levels of the class variable will be used in the analysis. If no levels are specified,\n",
    "# the two most common levels will automatically be used.\n",
    "VarLevelsToKeep = ['stage i', 'stage iii']\n",
    "\n",
    "dfAnalysis_fl = OD.FilterLevels(dfAnalysis, ClassVar, VarLevelsToKeep, printStats='no')\n",
    "\n",
    "ClassVarLevelsFreqTab, ClassVarLevelsSorted = OD.returnVarLevelsSorted(dfAnalysis_fl,ClassVar)\n",
    "\n",
    "#print(ClassVarLevelsFreqTab)\n",
    "print(\"Cancer Type: \" + '\\033[1m{:10s}\\033[0m'.format(CancerType))\n",
    "print(\"Variable for analysis: \" + '\\033[1m{:10s}\\033[0m'.format(ClassVar))\n",
    "print(\"Finally, number of samples in the dataset:\" + '\\033[1m{:d}\\033[0m'.format(dfAnalysis_fl.shape[0])) \n",
    "print(\"Samples distribution within the variable levels kept for analysis:\") \n",
    "\n",
    "ClassVarLevelsFreqTab\n",
    "\n",
    "# + '\\033[1m{:d}\\033[0m'.format(dfAnalysis_fl.shape[0]))\n",
    "\n",
    "dfAnalysis_fl = OD.prepareDF(dfAnalysis_fl, ClassVar)\n",
    "\n",
    "print(\"Size of the dataframe: {0}\".format(dfAnalysis_fl.shape))\n",
    "\n",
    "# OPTIONAL: specify whether dimensionality reduction (removal of genes) will be applied, and the method used.\n",
    "dimReduction = False\n",
    "numSigCancers = 10\n",
    "dimRedMethod = 'signifDEgenes' # signifDEgenes numSigCancers\n",
    "\n",
    "# OPTIONAL: if dimensionality reduction is NOT used, remove low-count genes lying in the bottom X-percentile among all genes.\n",
    "remLowGenes = False\n",
    "remPercentile = 2  # e.g., remPercentile = 2 will remove genes that have a median expression in the bottom 2% of all genes\n",
    "\n",
    "\n",
    "if dimReduction: # step into dim reduction if dimReduction is set to True\n",
    "    signifDEgenes = pd.read_excel(\"PSN_genes_signifDE.xlsx\")\n",
    "    signifDECancerTypes = signifDEgenes.columns[3:].tolist()\n",
    "    signifDECancerTypes = [s.split('_')[1] for s in signifDECancerTypes]\n",
    "    if CancerType.split('-')[1] in signifDECancerTypes: # Make sure that the selected cancer type exists\n",
    "        if dimRedMethod == 'numSigCancers':\n",
    "            signifDEgenes = signifDEgenes.loc[signifDEgenes[\"num sig cancers\"]>=numSigCancers, \"gene name\"].tolist()\n",
    "        elif dimRedMethod == 'signifDEgenes':\n",
    "            signifDEgenes = signifDEgenes.loc[signifDEgenes[\"Padj_\" + CancerType.split('-')[1]]<=0.01, \"gene name\"].tolist()\n",
    "        signifDEgenes.insert(0,ClassVar)\n",
    "        dfAnalysis_fl = dfAnalysis_fl[signifDEgenes]\n",
    "        print(\"Size of the dataframe after filtering signifDEgenes: {0}\".format(dfAnalysis_fl.shape))\n",
    "        dfAnalysis_fl_cd = dfAnalysis_fl\n",
    "    else:\n",
    "        print(\"Dim reduction cannot be performed because the cancer type '{0}' does not have paired samples.\")\n",
    "        dfAnalysis_fl_cd = dfAnalysis_fl\n",
    "elif remLowGenes: # remove low-count genes if specified, and dim reduction is not desired.\n",
    "    # Look at the list LowCountGene, these are the genes which will be removed.\n",
    "    # The percentile can be adjusted by changing the \"Level=X\" input, where X = percentile.\n",
    "    data_stats, LowCountGene = OD.GeneExpression(dfAnalysis_fl,remPercentile)\n",
    "    print(\"********************************************************************\")\n",
    "    print(\"Following {0} genes are removed because their median expression values lie in the lower {1} percentile of the entire set.\".format(len(LowCountGene),remPercentile))\n",
    "    print(LowCountGene)\n",
    "    # Remove low count genes\n",
    "    dfAnalysis_fl_cd = OD.CleanData(dfAnalysis_fl,remPercentile)\n",
    "    print(\"\\nSize of the dataframe after filtering low count genes: {0}\".format(dfAnalysis_fl_cd.shape))\n",
    "else:\n",
    "    # no genes will be removed\n",
    "    print(\"No genes were removed from the dataset.\")\n",
    "    dfAnalysis_fl_cd = dfAnalysis_fl\n",
    "\n",
    "# Perform label encoding for the ClassVar and scale data using log transform\n",
    "dfAnalysis_fl_cd, ClassVarEncOrder = OD.mapClassVar(dfAnalysis_fl_cd,ClassVar)\n",
    "X, y = OD.fitLogTransform(dfAnalysis_fl_cd)"
   ]
  },
  {
   "cell_type": "code",
   "execution_count": null,
   "metadata": {
    "code_folding": [],
    "nbpresent": {
     "id": "84fe1c3e-a978-4574-b7b3-0a8454643dc2"
    },
    "scrolled": false
   },
   "outputs": [],
   "source": [
    "#Now let's run the t-SNE, PCA and LDA algorithms on the dataset.\n",
    "tsneProj2D = TSNE(random_state=RS, n_components=2).fit_transform(X)\n",
    "OD.tSNEscatter(tsneProj2D, y, ClassVarEncOrder, len(VarLevelsToKeep))\n",
    "OD.plotPCA(X, y, 2, VarLevelsToKeep, save=False)\n",
    "if len(VarLevelsToKeep) >2:\n",
    "    OD.plotLDA(X, y, 2, VarLevelsToKeep, save=False)\n",
    "else:\n",
    "    classifier = LinearDiscriminantAnalysis()\n",
    "    mod_name = \"LDA\"\n",
    "    CV = 'Validation: SKF'\n",
    "    shuffle = True\n",
    "    OD.ROCanalysis(mod_name, CV, classifier, X, y, shuffle)"
   ]
  },
  {
   "cell_type": "code",
   "execution_count": null,
   "metadata": {
    "code_folding": [],
    "nbpresent": {
     "id": "97c21c7d-be06-4b40-844d-ce8e866a4091"
    },
    "scrolled": false
   },
   "outputs": [],
   "source": [
    "# Now let's use hypertools to create 3D plots using different dim reduction techniques.\n",
    "\n",
    "classLabels = dfAnalysis_fl[ClassVar]\n",
    "hypPCA = hyp.plot(X,'o', group=classLabels, legend=list(set(classLabels)), title=\"PCA 3D Projection\")#, explore=True)#, animate=True ) #normalize='across')\n",
    "\n",
    "hypKernalPCA = hyp.plot(X,'o', model='KernelPCA', model_params= {'kernel':\"poly\"}, group=classLabels, legend=list(set(classLabels)), title=\"KernalPCA(poly) 3D Projection\")#, explore=True)#, animate=True ) #normalize='across')\n",
    "\n",
    "hypKernalPCA = hyp.plot(X,'o', model='KernelPCA', model_params= {'kernel':\"rbf\"}, group=classLabels, legend=list(set(classLabels)), title=\"KernalPCA(rbf) 3D Projection\")#, explore=True)#, animate=True ) #normalize='across')\n",
    "#, 'fit_inverse_transform': True, 'gamma' : 1\n",
    "#hypKernalPCA = hyp.plot(X,'o', reduce={'model': 'KernelPCA', 'params': {'kernel':\"rbf\", 'fit_inverse_transform': True, 'gamma' : 10}}, group=classLabels, legend=list(set(classLabels)), title=\"KernalPCA 3D Projection\")#, explore=True)#, animate=True ) #normalize='across')\n",
    "\n",
    "#tsneProj3D = TSNE(random_state=RS, n_components=3).fit_transform(X)\n",
    "#hypTSNE-self = hyp.plot(tsneProj3D,'o', group=classLabels, legend=list(set(classLabels)), title=\"tSNE-self 3D Projection\")\n",
    "hypTSNE = hyp.plot(X,'o', model='TSNE', group=classLabels, legend=list(set(classLabels)), title=\"tSNE 3D Projection\")#, explore=True)\n",
    "#hypFastICA = hyp.plot(X,'o', model='FastICA', group=classLabels, legend=list(set(classLabels)), title=\"FastICA 3D Projection\")#, explore=True)\n",
    "hypMDS = hyp.plot(X,'o', model='MDS', group=classLabels, legend=list(set(classLabels)), title=\"MDS 3D Projection\")#, explore=True)\n",
    "\n"
   ]
  },
  {
   "cell_type": "code",
   "execution_count": null,
   "metadata": {
    "collapsed": true
   },
   "outputs": [],
   "source": [
    "models = [#DecisionTreeClassifier(random_state=RS), # \n",
    "          ExtraTreesClassifier(n_estimators=200, random_state=RS), # 0\n",
    "          RandomForestClassifier(n_estimators=200, random_state=RS), # 1\n",
    "          AdaBoostClassifier(n_estimators=200), # 2\n",
    "          xgb.XGBClassifier(), # 3\n",
    "          LinearDiscriminantAnalysis(), # 4\n",
    "          RidgeClassifier(), # 5\n",
    "          KNeighborsClassifier(20), # 6\n",
    "          svm.SVC(kernel='linear'), # 7\n",
    "          svm.SVC(kernel='rbf', C=5) # 8  \n",
    "         ]"
   ]
  },
  {
   "cell_type": "code",
   "execution_count": null,
   "metadata": {
    "code_folding": [],
    "nbpresent": {
     "id": "1a23a71f-7da4-4f1a-8308-7cde942c2c94"
    },
    "scrolled": false
   },
   "outputs": [],
   "source": [
    "# Run models for crossvalidated average score of accuracy\n",
    "CV = 'Validation: SKF'\n",
    "shuffle = True\n",
    "scoring = 'accuracy'\n",
    "folds = 10\n",
    "#dfCVscoresAUC = OD.CVScorer([svm.NuSVC()], CV, X, y, scoring, shuffle)\n",
    "dfCVscoresAUC = OD.CVScorer(models, CV, X, y, scoring, shuffle, folds)\n",
    "#dfCVscoresAUC = OD.CVScorer([models[i] for i in [4,5]], CV, X, y, scoring, shuffle)\n",
    "print(\"Cancer Type: \", CancerType)\n",
    "dfCVscoresAUC"
   ]
  },
  {
   "cell_type": "markdown",
   "metadata": {},
   "source": [
    "#### ROC analysis only feasible when ClassVar has only two possible values. When analyzing more than two levels for ClassVar, don't run this cell "
   ]
  },
  {
   "cell_type": "code",
   "execution_count": null,
   "metadata": {
    "code_folding": [],
    "nbpresent": {
     "id": "b19c6c88-6c71-4683-bd32-f8ab5be3ffde"
    }
   },
   "outputs": [],
   "source": [
    "# Run models for crossvalidated average score of area under the roc curve\n",
    "if len(VarLevelsToKeep) == 2:\n",
    "    scoring = 'roc_auc'\n",
    "    dfCVscoresROC = OD.CVScorer(models, CV, X, y, scoring, shuffle, folds)\n",
    "    #dfCVscoresROC = OD.CVScorer([models[i] for i in [8, 9]], CV, X, y, scoring, shuffle)\n",
    "    print(\"Cancer Type: \", CancerType)\n",
    "    dfCVscoresROC\n",
    "else:\n",
    "    print(\"Skipping CV analysis using area under the ROC curve. This is possible for binary problems only.\")\n",
    "        "
   ]
  },
  {
   "cell_type": "code",
   "execution_count": null,
   "metadata": {
    "collapsed": true
   },
   "outputs": [],
   "source": [
    "dfAnalysisOriginal = pd.DataFrame(np.c_[y,X], \n",
    "                                    columns=dfAnalysis_fl_cd.columns)\n",
    "dfAnalysisOriginal[ClassVar] = dfAnalysisOriginal[ClassVar].astype(int)\n"
   ]
  },
  {
   "cell_type": "code",
   "execution_count": null,
   "metadata": {
    "collapsed": true
   },
   "outputs": [],
   "source": [
    "import os"
   ]
  },
  {
   "cell_type": "code",
   "execution_count": null,
   "metadata": {},
   "outputs": [],
   "source": [
    "print(\"Writing dataset and CV analysis results to a directory named:{0}\".format(CancerType))\n",
    "os.makedirs(CancerType , exist_ok=True)\n",
    "\n",
    "writer = pd.ExcelWriter(CancerType + '/' + CancerType + '-' + ClassVar + 'Results.xlsx', engine='xlsxwriter')\n",
    "\n",
    "# Convert the dataframe to an XlsxWriter Excel object.\n",
    "#dfRanks.to_excel(writer, sheet_name='GenesRanking', index=False, float_format='%.10f')\n",
    "\n",
    "dfCVscoresAUC.to_excel(writer, sheet_name='Accuracy', index=False, float_format='%.10f')\n",
    "dfCVscoresAUC.to_csv(CancerType + '/' + CancerType + '-' + ClassVar + 'Accuracy.csv', index=False)\n",
    "\n",
    "if len(VarLevelsToKeep) == 2:\n",
    "    dfCVscoresROC.to_excel(writer, sheet_name='AreaUnderROC', index=False, float_format='%.10f')\n",
    "    dfCVscoresROC.to_csv(CancerType + '/' + CancerType + '-' + ClassVar + 'AreaUnderROC.csv', index=False)\n",
    "\n",
    "writer.save()\n",
    "\n",
    "#dfRanks.to_csv(CancerType + '/' + CancerType + '-' + ClassVar + 'GenesRanking.csv', index=False)\n",
    "dfAnalysisOriginal.to_csv(CancerType + '/' + CancerType + '-' + ClassVar + 'OriginalData.csv', index=False)\n",
    "\n",
    "print(\"Done!\")\n"
   ]
  },
  {
   "cell_type": "markdown",
   "metadata": {},
   "source": [
    "#### Perform clustering analysis. We filter out samples of the same type (like tumor or normal ones) by providing the corresponding code from the label encoding performed earliear. "
   ]
  },
  {
   "cell_type": "code",
   "execution_count": null,
   "metadata": {
    "collapsed": true,
    "scrolled": true
   },
   "outputs": [],
   "source": [
    "Xclust = X[y==0] # {0: 'Primary solid Tumor', 1: 'Solid Tissue Normal'}\n",
    "y0 = y[y==0]\n",
    "means = Xclust.mean(axis=0)\n",
    "meansSorted =np.sort(means)\n",
    "medians = np.median(Xclust, axis=0)\n",
    "mediansSorted = np.sort(medians)\n",
    "\n",
    "plt.figure()\n",
    "axOriginal =sns.heatmap(Xclust, cmap=plt.cm.Blues, cbar_kws={'label': 'Original dataset'} );\n",
    "#axOriginal.plot()\n",
    "#sns.show()\n",
    "plt.figure()\n",
    "XclustSortedMeans = Xclust[:,np.argsort(means)]\n",
    "axMeans = sns.heatmap(XclustSortedMeans, cmap=plt.cm.Blues, cbar_kws={'label': 'Dataset sorted wrt column means'} );\n",
    "#axMeans.plot()\n",
    "#plt.show()\n",
    "\n",
    "plt.figure()\n",
    "XclustSortedMedians = Xclust[:,np.argsort(medians)]\n",
    "axColumns = sns.heatmap(XclustSortedMedians, cmap=plt.cm.Blues,\n",
    "                        cbar_kws={'label': 'Dataset sorted wrt column medians'} );"
   ]
  },
  {
   "cell_type": "code",
   "execution_count": null,
   "metadata": {
    "collapsed": true,
    "scrolled": true
   },
   "outputs": [],
   "source": [
    "\n",
    "isoForest = IsolationForest(n_estimators=1000, contamination=0.40) # you can chose a different value\n",
    "isoForest.fit(Xclust)\n",
    "outlierIsoFor = isoForest.predict(Xclust)\n",
    "pd.DataFrame(outlierIsoFor)[0].value_counts()\n",
    "#outlierTF = outlier == 1\n",
    "#dftesting_clean =dftesting[outlierTF]\n",
    "XclustInl = Xclust[outlierIsoFor == 1]\n",
    "\n",
    "XclustInly0 = XclustInl.copy()\n",
    "temp = y0[outlierIsoFor == 1]\n",
    "y0 = temp"
   ]
  },
  {
   "cell_type": "code",
   "execution_count": null,
   "metadata": {
    "collapsed": true,
    "scrolled": false
   },
   "outputs": [],
   "source": [
    "plt.figure()\n",
    "plt.scatter(x= np.arange(len(meansSorted)), y=meansSorted);\n",
    "plt.title(\"Sorted values of column's means\");\n",
    "\n",
    "meansXclustInl = XclustInl.mean(axis=0)\n",
    "meansSortedXclustInl =np.sort(meansXclustInl)\n",
    "mediansXclustInl = np.median(Xclust, axis=0)\n",
    "mediansSortedXclustInl = np.sort(mediansXclustInl)\n",
    "plt.figure()\n",
    "plt.scatter(x= np.arange(len(meansSortedXclustInl)), y=meansSortedXclustInl);\n",
    "plt.title(\"Sorted values of column's means after outliers removal\");\n",
    "\n",
    "plt.figure()\n",
    "plt.scatter(x=np.arange(len(mediansSorted)), y=mediansSorted);\n",
    "plt.title(\"Sorted values of column's medians\");\n",
    "\n",
    "plt.figure()\n",
    "plt.scatter(x=np.arange(len(mediansSortedXclustInl)), y=mediansSortedXclustInl);\n",
    "plt.title(\"Sorted values of column's medians after outliers removal\");\n",
    "\n"
   ]
  },
  {
   "cell_type": "code",
   "execution_count": null,
   "metadata": {
    "collapsed": true
   },
   "outputs": [],
   "source": [
    "XclustInlOut = np.append(XclustInl, Xclust[outlierIsoFor == -1], axis=0)\n",
    "\n",
    "plt.figure()\n",
    "axOriginal =sns.heatmap(Xclust, cmap=plt.cm.Blues, cbar_kws={'label': 'Original dataset'} );\n",
    "\n",
    "plt.figure()\n",
    "axOriginal =sns.heatmap(XclustInlOut, cmap=plt.cm.Blues, cbar_kws={'label': 'Original dataset, outliers pushed down'} );\n"
   ]
  },
  {
   "cell_type": "code",
   "execution_count": null,
   "metadata": {
    "collapsed": true
   },
   "outputs": [],
   "source": [
    "Ks = range(2, 30)\n",
    "km = [KMeans(n_clusters=i) for i in Ks]\n",
    "score = [km[i].fit(Xclust.T).score(Xclust.T) for i in range(len(km))]\n",
    "\n",
    "plt.figure()#figsize=(5,5))\n",
    "plt.title(\"Elbow method using original data to determine optimal number of clusters (k)\")\n",
    "plt.scatter(x=Ks, y=score, data=score);\n",
    "\n",
    "Ks = range(2, 30)\n",
    "km = [KMeans(n_clusters=i) for i in Ks]\n",
    "score = [km[i].fit(XclustInl.T).score(XclustInl.T) for i in range(len(km))]\n",
    "\n",
    "plt.figure() #figsize=(5,5))\n",
    "plt.title(\"Elbow method using cleaned data to determine optimal number of clusters (k)\")\n",
    "plt.scatter(x=Ks, y=score, data=score);\n",
    "\n"
   ]
  },
  {
   "cell_type": "code",
   "execution_count": null,
   "metadata": {
    "collapsed": true
   },
   "outputs": [],
   "source": [
    "Ks = range(2, 30)\n",
    "fagg = [FeatureAgglomeration(n_clusters=i, linkage='ward').fit(Xclust) for i in Ks]\n",
    "scoreCH = [calinski_harabaz_score(Xclust.T, fagg[i].labels_) for i in range(len(fagg)) ]\n",
    "scoreSH = [silhouette_score(Xclust.T, fagg[i].labels_, metric='euclidean') for i in range(len(fagg)) ]\n",
    "plt.figure() #figsize=(5,5))\n",
    "plt.title(\"Average Calinski Harabaz score for different k\")\n",
    "plt.scatter(x=Ks, y=scoreCH, data=scoreCH);\n",
    "plt.figure() #figsize=(5,5))\n",
    "plt.title(\"Average Silhouette score for different k\")\n",
    "plt.scatter(x=Ks, y=scoreSH, data=scoreSH);"
   ]
  },
  {
   "cell_type": "code",
   "execution_count": null,
   "metadata": {
    "collapsed": true
   },
   "outputs": [],
   "source": [
    "dfClustersY0 = pd.DataFrame(index=dfAnalysis_fl_cd.columns[1:])\n",
    "dfClustersY0cd = pd.DataFrame(index=dfAnalysis_fl_cd.columns[1:])\n",
    "\n",
    "def heatmaps():\n",
    "    \n",
    "    plt.figure()\n",
    "    axXclust = sns.heatmap(Xclust[:,np.argsort(aggloXclust.labels_)], cmap=plt.cm.Blues, cbar_kws={'label': 'Genes rearranged to show clusters (' + str(n) + ')' } )\n",
    "\n",
    "    plt.figure()\n",
    "    axXclustInlOut = sns.heatmap(XclustInlOut[:,np.argsort(aggloXclust.labels_)], cmap=plt.cm.Blues, cbar_kws={'label': 'Genes rearranged to show clusters (' + str(n) + '),' +  '\\n inconsistent samples pushed down'} );\n",
    "\n",
    "    plt.figure()\n",
    "    axXclustInl = sns.heatmap(XclustInl[:,np.argsort(aggloXclust.labels_)], cmap=plt.cm.Blues, cbar_kws={'label': 'Genes rearranged to show clusters (' + str(n) + '),' + '\\n inconsistent samples discarded'} );\n",
    "    \n",
    "    plt.figure()\n",
    "    axXclustReduced = sns.heatmap(XclustReduced, cmap=plt.cm.Blues,  cbar_kws={'label': 'Centers of clusters (' + str(n) + ')' } );\n",
    "\n",
    "    plt.figure()\n",
    "    axXclustInl2 = sns.heatmap(XclustInl[:,np.argsort(aggloXclustInl.labels_)], cmap=plt.cm.Blues, cbar_kws={'label': 'Genes rearranged to show clusters (' + str(n) + '),' + '\\n learned on cleaned data'} );\n",
    "    \n",
    "    plt.figure()\n",
    "    axXclustInlReduced = sns.heatmap(XclustInlReduced, cmap=plt.cm.Blues,  cbar_kws={'label': 'Centers of clusters (' + str(n) + ') of cleaned data' } );\n",
    "\n",
    "for n in range(4,8):\n",
    "    aggloXclust =  FeatureAgglomeration(n_clusters=n, linkage='ward').fit(Xclust)\n",
    "    XclustReduced = aggloXclust.transform(Xclust)\n",
    "    dfClustersY0[\"C-\" + str(n)] = aggloXclust.labels_\n",
    "\n",
    "    aggloXclustInl =  FeatureAgglomeration(n_clusters=n, linkage='ward').fit(XclustInl)\n",
    "    XclustInlReduced = aggloXclustInl.transform(XclustInl)\n",
    "    dfClustersY0cd[\"C-\" + str(n)] = aggloXclustInl.labels_\n",
    "\n",
    "    #    aggloXclust =  KMeans(n_clusters=n).fit(Xclust.T)\n",
    "#    XclustReduced = aggloXclust.transform(Xclust.T)\n",
    "    heatmaps()\n",
    "\n"
   ]
  },
  {
   "cell_type": "markdown",
   "metadata": {},
   "source": [
    "#### We filter out samples of the same type (like tumor or normal ones) by providing the corresponding code from the label encoding performed earliear. "
   ]
  },
  {
   "cell_type": "code",
   "execution_count": null,
   "metadata": {
    "collapsed": true,
    "scrolled": false
   },
   "outputs": [],
   "source": [
    "Xclust = X[y==1] # {0: 'Primary solid Tumor', 1: 'Solid Tissue Normal'}\n",
    "y1 = y[y==1]\n",
    "means = Xclust.mean(axis=0)\n",
    "meansSorted =np.sort(means)\n",
    "medians = np.median(Xclust, axis=0)\n",
    "mediansSorted = np.sort(medians)\n",
    "\n",
    "plt.figure()\n",
    "axOriginal =sns.heatmap(Xclust, cmap=plt.cm.Blues, cbar_kws={'label': 'Original dataset'} );\n",
    "#axOriginal.plot()\n",
    "#sns.show()\n",
    "plt.figure()\n",
    "XclustSortedMeans = Xclust[:,np.argsort(means)]\n",
    "axMeans = sns.heatmap(XclustSortedMeans, cmap=plt.cm.Blues, cbar_kws={'label': 'Dataset sorted wrt column means'} );\n",
    "#axMeans.plot()\n",
    "#plt.show()\n",
    "\n",
    "plt.figure()\n",
    "XclustSortedMedians = Xclust[:,np.argsort(medians)]\n",
    "axColumns = sns.heatmap(XclustSortedMedians, cmap=plt.cm.Blues,\n",
    "                        cbar_kws={'label': 'Dataset sorted wrt column medians'} );"
   ]
  },
  {
   "cell_type": "code",
   "execution_count": null,
   "metadata": {
    "collapsed": true,
    "scrolled": true
   },
   "outputs": [],
   "source": [
    "\n",
    "isoForest = IsolationForest(n_estimators=1000, contamination=0.20)\n",
    "isoForest.fit(Xclust)\n",
    "outlierIsoFor = isoForest.predict(Xclust)\n",
    "pd.DataFrame(outlierIsoFor)[0].value_counts()\n",
    "#outlierTF = outlier == 1\n",
    "#dftesting_clean =dftesting[outlierTF]\n",
    "XclustInl = Xclust[outlierIsoFor == 1]\n",
    "\n",
    "XclustInly1 = XclustInl.copy()\n",
    "temp = y1[outlierIsoFor == 1]\n",
    "y1 = temp\n"
   ]
  },
  {
   "cell_type": "code",
   "execution_count": null,
   "metadata": {
    "collapsed": true,
    "scrolled": false
   },
   "outputs": [],
   "source": [
    "plt.figure()\n",
    "plt.scatter(x= np.arange(len(meansSorted)), y=meansSorted);\n",
    "plt.title(\"Sorted values of column's means\");\n",
    "\n",
    "meansXclustInl = XclustInl.mean(axis=0)\n",
    "meansSortedXclustInl =np.sort(meansXclustInl)\n",
    "mediansXclustInl = np.median(Xclust, axis=0)\n",
    "mediansSortedXclustInl = np.sort(mediansXclustInl)\n",
    "plt.figure()\n",
    "plt.scatter(x= np.arange(len(meansSortedXclustInl)), y=meansSortedXclustInl);\n",
    "plt.title(\"Sorted values of column's means after outliers removal\");\n",
    "\n",
    "plt.figure()\n",
    "plt.scatter(x=np.arange(len(mediansSorted)), y=mediansSorted);\n",
    "plt.title(\"Sorted values of column's medians\");\n",
    "\n",
    "plt.figure()\n",
    "plt.scatter(x=np.arange(len(mediansSortedXclustInl)), y=mediansSortedXclustInl);\n",
    "plt.title(\"Sorted values of column's medians after outliers removal\");\n",
    "\n"
   ]
  },
  {
   "cell_type": "code",
   "execution_count": null,
   "metadata": {
    "collapsed": true
   },
   "outputs": [],
   "source": [
    "XclustInlOut = np.append(XclustInl, Xclust[outlierIsoFor == -1], axis=0)\n",
    "\n",
    "plt.figure()\n",
    "axOriginal =sns.heatmap(Xclust, cmap=plt.cm.Blues, cbar_kws={'label': 'Original dataset'} );\n",
    "\n",
    "plt.figure()\n",
    "axOriginal =sns.heatmap(XclustInlOut, cmap=plt.cm.Blues, cbar_kws={'label': 'Original dataset, outliers pushed down'} );\n"
   ]
  },
  {
   "cell_type": "code",
   "execution_count": null,
   "metadata": {
    "collapsed": true
   },
   "outputs": [],
   "source": [
    "Ks = range(2, 30)\n",
    "km = [KMeans(n_clusters=i) for i in Ks]\n",
    "score = [km[i].fit(Xclust.T).score(Xclust.T) for i in range(len(km))]\n",
    "\n",
    "plt.figure()#figsize=(5,5))\n",
    "plt.title(\"Elbow method using original data to determine optimal number of clusters (k)\")\n",
    "plt.scatter(x=Ks, y=score, data=score);\n",
    "\n",
    "Ks = range(2, 30)\n",
    "km = [KMeans(n_clusters=i) for i in Ks]\n",
    "score = [km[i].fit(XclustInl.T).score(XclustInl.T) for i in range(len(km))]\n",
    "\n",
    "plt.figure() #figsize=(5,5))\n",
    "plt.title(\"Elbow method using cleaned data to determine optimal number of clusters (k)\")\n",
    "plt.scatter(x=Ks, y=score, data=score);\n",
    "\n"
   ]
  },
  {
   "cell_type": "code",
   "execution_count": null,
   "metadata": {
    "collapsed": true
   },
   "outputs": [],
   "source": [
    "Ks = range(2, 30)\n",
    "fagg = [FeatureAgglomeration(n_clusters=i, linkage='ward').fit(Xclust) for i in Ks]\n",
    "scoreCH = [calinski_harabaz_score(Xclust.T, fagg[i].labels_) for i in range(len(fagg)) ]\n",
    "scoreSH = [silhouette_score(Xclust.T, fagg[i].labels_, metric='euclidean') for i in range(len(fagg)) ]\n",
    "plt.figure() #figsize=(5,5))\n",
    "plt.title(\"Average Calinski Harabaz score for different k\")\n",
    "plt.scatter(x=Ks, y=scoreCH, data=scoreCH);\n",
    "plt.figure() #figsize=(5,5))\n",
    "plt.title(\"Average Silhouette score for different k\")\n",
    "plt.scatter(x=Ks, y=scoreSH, data=scoreSH);"
   ]
  },
  {
   "cell_type": "code",
   "execution_count": null,
   "metadata": {
    "collapsed": true,
    "scrolled": false
   },
   "outputs": [],
   "source": [
    "dfClustersY1 = pd.DataFrame(index=dfAnalysis_fl_cd.columns[1:])\n",
    "dfClustersY1cd = pd.DataFrame(index=dfAnalysis_fl_cd.columns[1:])\n",
    "\n",
    "def heatmaps():\n",
    "    \n",
    "    plt.figure()\n",
    "    axXclust = sns.heatmap(Xclust[:,np.argsort(aggloXclust.labels_)], cmap=plt.cm.Blues, cbar_kws={'label': 'Genes rearranged to show clusters (' + str(n) + ')' } )\n",
    "\n",
    "    plt.figure()\n",
    "    axXclustInlOut = sns.heatmap(XclustInlOut[:,np.argsort(aggloXclust.labels_)], cmap=plt.cm.Blues, cbar_kws={'label': 'Genes rearranged to show clusters (' + str(n) + '),' +  '\\n inconsistent samples pushed down'} );\n",
    "\n",
    "    plt.figure()\n",
    "    axXclustInl = sns.heatmap(XclustInl[:,np.argsort(aggloXclust.labels_)], cmap=plt.cm.Blues, cbar_kws={'label': 'Genes rearranged to show clusters (' + str(n) + '),' + '\\n inconsistent samples discarded'} );\n",
    "    \n",
    "    plt.figure()\n",
    "    axXclustReduced = sns.heatmap(XclustReduced, cmap=plt.cm.Blues,  cbar_kws={'label': 'Centers of clusters (' + str(n) + ')' } );\n",
    "\n",
    "    plt.figure()\n",
    "    axXclustInl2 = sns.heatmap(XclustInl[:,np.argsort(aggloXclustInl.labels_)], cmap=plt.cm.Blues, cbar_kws={'label': 'Genes rearranged to show clusters (' + str(n) + '),' + '\\n learned on cleaned data'} );\n",
    "    \n",
    "    plt.figure()\n",
    "    axXclustInlReduced = sns.heatmap(XclustInlReduced, cmap=plt.cm.Blues,  cbar_kws={'label': 'Centers of clusters (' + str(n) + ') of cleaned data' } );\n",
    "\n",
    "for n in range(6,9):\n",
    "    aggloXclust =  FeatureAgglomeration(n_clusters=n, linkage='ward').fit(Xclust)\n",
    "    XclustReduced = aggloXclust.transform(Xclust)\n",
    "    dfClustersY1[\"C-\" + str(n)] = aggloXclust.labels_\n",
    "\n",
    "    aggloXclustInl =  FeatureAgglomeration(n_clusters=n, linkage='ward').fit(XclustInl)\n",
    "    XclustInlReduced = aggloXclustInl.transform(XclustInl)\n",
    "    dfClustersY1cd[\"C-\" + str(n)] = aggloXclustInl.labels_\n",
    "    #    aggloXclust =  KMeans(n_clusters=n).fit(Xclust.T)\n",
    "#    XclustReduced = aggloXclust.transform(Xclust.T)\n",
    "    heatmaps()\n",
    "\n"
   ]
  },
  {
   "cell_type": "code",
   "execution_count": null,
   "metadata": {
    "code_folding": [],
    "collapsed": true,
    "scrolled": false
   },
   "outputs": [],
   "source": [
    "#Now let's run the t-SNE, PCA and LDA algorithms on the dataset after removing outliers.\n",
    "\n",
    "Xcleaned = np.append(XclustInly0, XclustInly1, axis=0)\n",
    "ycleaned = np.append(y0,y1, axis=0)\n",
    "tsneProj2D = TSNE(random_state=RS, n_components=2).fit_transform(Xcleaned)\n",
    "OD.tSNEscatter(tsneProj2D, ycleaned, ClassVarEncOrder, len(VarLevelsToKeep))\n",
    "OD.plotPCA(Xcleaned, ycleaned, 2, VarLevelsToKeep, save=False)\n",
    "if len(VarLevelsToKeep) >2:\n",
    "    OD.plotLDA(Xcleaned, ycleaned, 2, VarLevelsToKeep, save=False)\n",
    "#else:\n",
    "#    classifier = LinearDiscriminantAnalysis()\n",
    "#    mod_name = \"LDA\"\n",
    "#    CV = 'Validation: SKF'\n",
    "#    shuffle = True\n",
    "#    OD.ROCanalysis(mod_name, CV, classifier, Xcleaned, ycleaned, shuffle)"
   ]
  },
  {
   "cell_type": "code",
   "execution_count": null,
   "metadata": {
    "code_folding": [],
    "collapsed": true,
    "scrolled": false
   },
   "outputs": [],
   "source": [
    "# Now let's use hypertools to create 3D plots using different dim reduction techniques.\n",
    "\n",
    "classLabels = ycleaned #dfAnalysis_fl[ClassVar]\n",
    "hypPCA = hyp.plot(Xcleaned,'o', group=classLabels, legend=list(set(classLabels)), title=\"PCA 3D Projection\")#, explore=True)#, animate=True ) #normalize='across')\n",
    "\n",
    "hypKernalPCA = hyp.plot(Xcleaned,'o', model='KernelPCA', model_params= {'kernel':\"poly\"}, group=classLabels, legend=list(set(classLabels)), title=\"KernalPCA(poly) 3D Projection\")#, explore=True)#, animate=True ) #normalize='across')\n",
    "\n",
    "hypKernalPCA = hyp.plot(Xcleaned,'o', model='KernelPCA', model_params= {'kernel':\"rbf\"}, group=classLabels, legend=list(set(classLabels)), title=\"KernalPCA(rbf) 3D Projection\")#, explore=True)#, animate=True ) #normalize='across')\n",
    "#, 'fit_inverse_transform': True, 'gamma' : 1\n",
    "#hypKernalPCA = hyp.plot(X,'o', reduce={'model': 'KernelPCA', 'params': {'kernel':\"rbf\", 'fit_inverse_transform': True, 'gamma' : 10}}, group=classLabels, legend=list(set(classLabels)), title=\"KernalPCA 3D Projection\")#, explore=True)#, animate=True ) #normalize='across')\n",
    "\n",
    "#tsneProj3D = TSNE(random_state=RS, n_components=3).fit_transform(X)\n",
    "#hypTSNE-self = hyp.plot(tsneProj3D,'o', group=classLabels, legend=list(set(classLabels)), title=\"tSNE-self 3D Projection\")\n",
    "hypTSNE = hyp.plot(Xcleaned,'o', model='TSNE', group=classLabels, legend=list(set(classLabels)), title=\"tSNE 3D Projection\")#, explore=True)\n",
    "#hypFastICA = hyp.plot(X,'o', model='FastICA', group=classLabels, legend=list(set(classLabels)), title=\"FastICA 3D Projection\")#, explore=True)\n",
    "hypMDS = hyp.plot(Xcleaned,'o', model='MDS', group=classLabels, legend=list(set(classLabels)), title=\"MDS 3D Projection\")#, explore=True)\n",
    "\n"
   ]
  },
  {
   "cell_type": "code",
   "execution_count": null,
   "metadata": {
    "code_folding": [],
    "collapsed": true
   },
   "outputs": [],
   "source": [
    "# Run models for crossvalidated average score of accuracy\n",
    "CV = 'Validation: SKF'\n",
    "shuffle = True\n",
    "scoring = 'accuracy'\n",
    "folds = 10\n",
    "#dfCVscoresAUC_cd = OD.CVScorer([svm.NuSVC()], CV, X, y, scoring, shuffle)\n",
    "dfCVscoresAUC_cd = OD.CVScorer(models, CV, Xcleaned, ycleaned, scoring, shuffle, folds)\n",
    "#dfCVscoresAUC_cd = OD.CVScorer([models[i] for i in [5]], CV, Xcleaned, ycleaned, scoring, shuffle)\n",
    "print(\"Cancer Type: \", CancerType)\n",
    "dfCVscoresAUC_cd"
   ]
  },
  {
   "cell_type": "markdown",
   "metadata": {},
   "source": [
    "#### ROC analysis only feasible when ClassVar has only two possible values. When analyzing more than two levels for ClassVar, don't run this cell "
   ]
  },
  {
   "cell_type": "code",
   "execution_count": null,
   "metadata": {
    "code_folding": [],
    "collapsed": true
   },
   "outputs": [],
   "source": [
    "# Run models for crossvalidated average score of area under the roc curve\n",
    "if len(VarLevelsToKeep) == 2:\n",
    "    scoring = 'roc_auc'\n",
    "    dfCVscoresROC_cd = OD.CVScorer(models, CV, Xcleaned, ycleaned, scoring, shuffle, folds)\n",
    "    #dfCVscoresROC_cd = OD.CVScorer([models[i] for i in [8, 9]], CV, X, y, scoring, shuffle)\n",
    "    print(\"Cancer Type: \", CancerType)\n",
    "    dfCVscoresROC_cd\n",
    "else:\n",
    "    print(\"Skipping CV analysis using area under the ROC curve. This is possible for binary problems only.\")\n",
    "        "
   ]
  },
  {
   "cell_type": "code",
   "execution_count": null,
   "metadata": {
    "collapsed": true
   },
   "outputs": [],
   "source": [
    "dfAnalysisCleaned = pd.DataFrame(np.c_[ycleaned,Xcleaned], \n",
    "                                 columns=dfAnalysis_fl_cd.columns)\n",
    "dfAnalysisCleaned[ClassVar] = dfAnalysisCleaned[ClassVar].astype(int)\n"
   ]
  },
  {
   "cell_type": "code",
   "execution_count": null,
   "metadata": {
    "collapsed": true
   },
   "outputs": [],
   "source": [
    "print(\"Writing dataset, genes clustering and CV analysis results to a directory named:{0}\".format(CancerType))\n",
    "os.makedirs(CancerType , exist_ok=True)\n",
    "\n",
    "writer = pd.ExcelWriter(CancerType + '/' + CancerType + '-' + ClassVar + 'Results.xlsx', engine='xlsxwriter')\n",
    "\n",
    "# Convert the dataframe to an XlsxWriter Excel object.\n",
    "#dfRanks.to_excel(writer, sheet_name='GenesRanking', index=False, float_format='%.10f')\n",
    "\n",
    "dfCVscoresAUC_cd.to_excel(writer, sheet_name='CleanedDataAuccracy', index=False, float_format='%.10f')\n",
    "dfCVscoresAUC_cd.to_csv(CancerType + '/' + CancerType + '-' + ClassVar + 'CleanedDataAuccracy.csv', index=False)\n",
    "\n",
    "if len(VarLevelsToKeep) == 2:\n",
    "    dfCVscoresROC_cd.to_excel(writer, sheet_name='CleanedDataAreaUnderROC', index=False, float_format='%.10f')\n",
    "    dfCVscoresROC_cd.to_csv(CancerType + '/' + CancerType + '-' + ClassVar + 'CleanedDataAreaUnderROC.csv', index=False)\n",
    "\n",
    "dfClustersY0.to_excel(writer, sheet_name='ClustersY0', index=True)#, float_format='%.10f')\n",
    "dfClustersY0.to_csv(CancerType + '/' + CancerType + '-' + ClassVar + 'ClustersY0.csv', index=True)\n",
    "\n",
    "dfClustersY0cd.to_excel(writer, sheet_name='CleanedDataClustersY0', index=True)#, float_format='%.10f')\n",
    "dfClustersY0cd.to_csv(CancerType + '/' + CancerType + '-' + ClassVar + 'CleanedDataClustersY0.csv', index=True)\n",
    "\n",
    "dfClustersY1.to_excel(writer, sheet_name='ClustersY1', index=True)#, float_format='%.10f')\n",
    "dfClustersY1.to_csv(CancerType + '/' + CancerType + '-' + ClassVar + 'ClustersY1.csv', index=True)\n",
    "\n",
    "dfClustersY1cd.to_excel(writer, sheet_name='CleanedDataClustersY1', index=True)#, float_format='%.10f')\n",
    "dfClustersY1cd.to_csv(CancerType + '/' + CancerType + '-' + ClassVar + 'CleanedDataClustersY1.csv', index=True)\n",
    "\n",
    "\n",
    "writer.save()\n",
    "\n",
    "#dfRanks.to_csv(CancerType + '/' + CancerType + '-' + ClassVar + 'GenesRanking.csv', index=False)\n",
    "dfAnalysisCleaned.to_csv(CancerType + '/' + CancerType + '-' + ClassVar + 'CleanedData.csv', index=False)\n",
    "\n",
    "print(\"Done!\")"
   ]
  },
  {
   "cell_type": "code",
   "execution_count": null,
   "metadata": {
    "collapsed": true
   },
   "outputs": [],
   "source": [
    "print(\"CancerType = \", CancerType)\n",
    "print(\"ClassVar = \", ClassVar)"
   ]
  },
  {
   "cell_type": "code",
   "execution_count": null,
   "metadata": {
    "collapsed": true
   },
   "outputs": [],
   "source": [
    "classifier = svm.SVC(kernel='linear')#RandomForestClassifier(n_estimators=200, random_state=RS) #LinearDiscriminantAnalysis()\n",
    "mod_name = \"SVM\"\n",
    "scoring =  'accuracy' #'accuracy'roc_auc\n",
    "sgLDAuc, nsgLDAauc = OD.RecursiceFeatureElimCV(mod_name, 'SKF', classifier, dfAnalysisOriginal ,10,scoring)"
   ]
  },
  {
   "cell_type": "code",
   "execution_count": null,
   "metadata": {
    "collapsed": true
   },
   "outputs": [],
   "source": [
    "sgLDAuc, nsgLDAauc = OD.RecursiceFeatureElimCV(mod_name, 'SKF', classifier, dfAnalysisCleaned ,10,scoring)"
   ]
  },
  {
   "cell_type": "code",
   "execution_count": null,
   "metadata": {
    "collapsed": true
   },
   "outputs": [],
   "source": [
    "#classifier = LinearDiscriminantAnalysis()\n",
    "#mod_name = \"LDA\"\n",
    "scoring =  'roc_auc' #'accuracy'roc_auc\n",
    "sgLDAuc, nsgLDAauc = OD.RecursiceFeatureElimCV(mod_name, 'SKF', classifier, dfAnalysisOriginal ,10,scoring)"
   ]
  },
  {
   "cell_type": "code",
   "execution_count": null,
   "metadata": {
    "collapsed": true
   },
   "outputs": [],
   "source": [
    "#classifier = LinearDiscriminantAnalysis()\n",
    "#mod_name = \"LDA\"\n",
    "scoring =  'roc_auc' #'accuracy'roc_auc\n",
    "sgLDAuc, nsgLDAauc = OD.RecursiceFeatureElimCV(mod_name, 'SKF', classifier, dfAnalysisCleaned ,10,scoring)"
   ]
  }
 ],
 "metadata": {
  "kernelspec": {
   "display_name": "Python 3",
   "language": "python",
   "name": "python3"
  },
  "language_info": {
   "codemirror_mode": {
    "name": "ipython",
    "version": 3
   },
   "file_extension": ".py",
   "mimetype": "text/x-python",
   "name": "python",
   "nbconvert_exporter": "python",
   "pygments_lexer": "ipython3",
   "version": "3.6.1"
  },
  "nbpresent": {
   "slides": {
    "1711701a-b19b-4c23-8b9f-7c049dfcdf44": {
     "id": "1711701a-b19b-4c23-8b9f-7c049dfcdf44",
     "prev": "82ae37eb-679e-4841-a3cc-874c198f00ed",
     "regions": {
      "f1e27f31-869b-49b4-906c-4c8e4ed2dffe": {
       "attrs": {
        "height": 0.8,
        "width": 0.8,
        "x": 0.1,
        "y": 0.1
       },
       "content": {
        "cell": "f35e6a8a-0eb1-4f64-8561-8423904f5f95",
        "part": "whole"
       },
       "id": "f1e27f31-869b-49b4-906c-4c8e4ed2dffe"
      }
     }
    },
    "1b455da5-da45-4640-b98f-14461ae5dbcd": {
     "id": "1b455da5-da45-4640-b98f-14461ae5dbcd",
     "prev": "1cb49da1-3ff1-4fa9-ac3d-6b0aa492abcd",
     "regions": {
      "c8c1442c-120e-4f34-98d2-d3d8ba55cf27": {
       "attrs": {
        "height": 0.8,
        "width": 0.8,
        "x": 0.1,
        "y": 0.1
       },
       "content": {
        "cell": "7bdb9605-56f0-4799-b887-40e26dc5e201",
        "part": "whole"
       },
       "id": "c8c1442c-120e-4f34-98d2-d3d8ba55cf27"
      }
     }
    },
    "1cb49da1-3ff1-4fa9-ac3d-6b0aa492abcd": {
     "id": "1cb49da1-3ff1-4fa9-ac3d-6b0aa492abcd",
     "prev": "1711701a-b19b-4c23-8b9f-7c049dfcdf44",
     "regions": {
      "ef7a0a31-c880-49de-a9d2-c4e7d9897f24": {
       "attrs": {
        "height": 0.8,
        "width": 0.8,
        "x": 0.1,
        "y": 0.1
       },
       "content": {
        "cell": "9725ff96-da07-4b3e-9d9c-d6ac3d13afd1",
        "part": "whole"
       },
       "id": "ef7a0a31-c880-49de-a9d2-c4e7d9897f24"
      }
     }
    },
    "21877989-3be2-4539-ba66-0b74224d29a8": {
     "id": "21877989-3be2-4539-ba66-0b74224d29a8",
     "prev": "8c48b688-9847-45d2-a5bc-9a8b5dcfa833",
     "regions": {
      "51fd4714-a25e-4b86-8368-53364870de32": {
       "attrs": {
        "height": 0.8,
        "width": 0.8,
        "x": 0.1,
        "y": 0.1
       },
       "content": {
        "cell": "b31101fb-af0c-4c9c-8afe-bed4ca91ff70",
        "part": "whole"
       },
       "id": "51fd4714-a25e-4b86-8368-53364870de32"
      }
     }
    },
    "37f2e087-4b79-44fc-b4f3-4045f9a0be98": {
     "id": "37f2e087-4b79-44fc-b4f3-4045f9a0be98",
     "prev": "f6f49450-4254-4308-8e8d-91279d96ca98",
     "regions": {
      "f300f415-802f-40f2-8f3b-953367b1db30": {
       "attrs": {
        "height": 0.8,
        "width": 0.8,
        "x": 0.1,
        "y": 0.1
       },
       "content": {
        "cell": "1a23a71f-7da4-4f1a-8308-7cde942c2c94",
        "part": "whole"
       },
       "id": "f300f415-802f-40f2-8f3b-953367b1db30"
      }
     }
    },
    "4349d949-2a76-4aff-b2cb-68d29fb6b207": {
     "id": "4349d949-2a76-4aff-b2cb-68d29fb6b207",
     "prev": "1b455da5-da45-4640-b98f-14461ae5dbcd",
     "regions": {
      "f9ae9ef4-b7de-4254-aaf6-6dc4c354ae5c": {
       "attrs": {
        "height": 0.8,
        "width": 0.8,
        "x": 0.1,
        "y": 0.1
       },
       "content": {
        "cell": "a763d96d-2f2e-401c-8e9f-5c3426df839b",
        "part": "whole"
       },
       "id": "f9ae9ef4-b7de-4254-aaf6-6dc4c354ae5c"
      }
     }
    },
    "43a93b4c-3060-49e3-9bd1-e5d84fd66abe": {
     "id": "43a93b4c-3060-49e3-9bd1-e5d84fd66abe",
     "prev": "b8073b79-f17e-4eaf-bc4f-3bbaba25fb1c",
     "regions": {
      "4f1b5868-d0b2-4d95-8f2c-41814f819125": {
       "attrs": {
        "height": 0.8,
        "width": 0.8,
        "x": 0.1,
        "y": 0.1
       },
       "content": {
        "cell": "46ad14fc-2525-46ba-be59-27d43e210a92",
        "part": "whole"
       },
       "id": "4f1b5868-d0b2-4d95-8f2c-41814f819125"
      }
     }
    },
    "4888d7b8-1104-428b-a859-412a89f1eaa4": {
     "id": "4888d7b8-1104-428b-a859-412a89f1eaa4",
     "prev": "c9588b6c-9b81-4239-9d14-ef36f724839c",
     "regions": {
      "bc12d027-fbe0-4846-bcb5-37bf29445aff": {
       "attrs": {
        "height": 0.8,
        "width": 0.8,
        "x": 0.1,
        "y": 0.1
       },
       "content": {
        "cell": "97c21c7d-be06-4b40-844d-ce8e866a4091",
        "part": "whole"
       },
       "id": "bc12d027-fbe0-4846-bcb5-37bf29445aff"
      }
     }
    },
    "4e177bed-70c4-4499-8cad-a51858273827": {
     "id": "4e177bed-70c4-4499-8cad-a51858273827",
     "prev": "c8066dd3-4e59-47bf-b2ca-b7f3511cfbc1",
     "regions": {
      "73f5b969-2b1e-4581-a986-f16552bc2c97": {
       "attrs": {
        "height": 0.8,
        "width": 0.8,
        "x": 0.1,
        "y": 0.1
       },
       "content": {
        "cell": "488097a4-0464-4d1a-8d66-c4bc0aa4f85a",
        "part": "whole"
       },
       "id": "73f5b969-2b1e-4581-a986-f16552bc2c97"
      }
     }
    },
    "82ae37eb-679e-4841-a3cc-874c198f00ed": {
     "id": "82ae37eb-679e-4841-a3cc-874c198f00ed",
     "prev": "c444bc79-eb0d-4e13-a451-393d2352546c",
     "regions": {
      "30875fea-5e1f-4db2-b569-35305e9e6183": {
       "attrs": {
        "height": 0.8,
        "width": 0.8,
        "x": 0.1,
        "y": 0.1
       },
       "content": {
        "cell": "77d3fae9-661e-437a-9a40-c43e2eb0c9bb",
        "part": "whole"
       },
       "id": "30875fea-5e1f-4db2-b569-35305e9e6183"
      }
     }
    },
    "8c48b688-9847-45d2-a5bc-9a8b5dcfa833": {
     "id": "8c48b688-9847-45d2-a5bc-9a8b5dcfa833",
     "prev": "4349d949-2a76-4aff-b2cb-68d29fb6b207",
     "regions": {
      "e4205b68-0e23-4afe-8cd4-4bcc3a177a59": {
       "attrs": {
        "height": 0.8,
        "width": 0.8,
        "x": 0.1,
        "y": 0.1
       },
       "content": {
        "cell": "7ecd017d-4aee-4422-aadd-2823c7ee646d",
        "part": "whole"
       },
       "id": "e4205b68-0e23-4afe-8cd4-4bcc3a177a59"
      }
     }
    },
    "95282915-245d-47cb-b60f-4442ab19134b": {
     "id": "95282915-245d-47cb-b60f-4442ab19134b",
     "prev": "37f2e087-4b79-44fc-b4f3-4045f9a0be98",
     "regions": {
      "e6710b66-853d-4ddb-8e62-737325c4a8b0": {
       "attrs": {
        "height": 0.8,
        "width": 0.8,
        "x": 0.1,
        "y": 0.1
       },
       "content": {
        "cell": "b19c6c88-6c71-4683-bd32-f8ab5be3ffde",
        "part": "whole"
       },
       "id": "e6710b66-853d-4ddb-8e62-737325c4a8b0"
      }
     }
    },
    "b8073b79-f17e-4eaf-bc4f-3bbaba25fb1c": {
     "id": "b8073b79-f17e-4eaf-bc4f-3bbaba25fb1c",
     "prev": "4e177bed-70c4-4499-8cad-a51858273827",
     "regions": {
      "ad19e640-7624-40b0-9e30-af58c22fc701": {
       "attrs": {
        "height": 0.8,
        "width": 0.8,
        "x": 0.1,
        "y": 0.1
       },
       "content": {
        "cell": "177da7ad-3ca2-4ce1-86b2-6c79e2c921fd",
        "part": "whole"
       },
       "id": "ad19e640-7624-40b0-9e30-af58c22fc701"
      }
     }
    },
    "c444bc79-eb0d-4e13-a451-393d2352546c": {
     "id": "c444bc79-eb0d-4e13-a451-393d2352546c",
     "prev": null,
     "regions": {
      "450d74e8-0e8c-4699-9e11-f8674d346297": {
       "attrs": {
        "height": 0.8,
        "width": 0.8,
        "x": 0.1,
        "y": 0.1
       },
       "content": {
        "cell": "5d20cc28-df36-49a6-bd77-ab36ff26b72d",
        "part": "whole"
       },
       "id": "450d74e8-0e8c-4699-9e11-f8674d346297"
      }
     }
    },
    "c8066dd3-4e59-47bf-b2ca-b7f3511cfbc1": {
     "id": "c8066dd3-4e59-47bf-b2ca-b7f3511cfbc1",
     "prev": "21877989-3be2-4539-ba66-0b74224d29a8",
     "regions": {
      "16d59397-679e-4e36-8b7e-f9c288e048ef": {
       "attrs": {
        "height": 0.8,
        "width": 0.8,
        "x": 0.1,
        "y": 0.1
       },
       "content": {
        "cell": "7b52bff9-5172-434f-883e-25d05e5c40e4",
        "part": "whole"
       },
       "id": "16d59397-679e-4e36-8b7e-f9c288e048ef"
      }
     }
    },
    "c9588b6c-9b81-4239-9d14-ef36f724839c": {
     "id": "c9588b6c-9b81-4239-9d14-ef36f724839c",
     "prev": "43a93b4c-3060-49e3-9bd1-e5d84fd66abe",
     "regions": {
      "22a08b85-b32b-4fd8-848c-9e908c18acbf": {
       "attrs": {
        "height": 0.8,
        "width": 0.8,
        "x": 0.1,
        "y": 0.1
       },
       "content": {
        "cell": "84fe1c3e-a978-4574-b7b3-0a8454643dc2",
        "part": "whole"
       },
       "id": "22a08b85-b32b-4fd8-848c-9e908c18acbf"
      }
     }
    },
    "f6f49450-4254-4308-8e8d-91279d96ca98": {
     "id": "f6f49450-4254-4308-8e8d-91279d96ca98",
     "prev": "4888d7b8-1104-428b-a859-412a89f1eaa4",
     "regions": {
      "71e046c6-2858-44f2-b7e8-6020bf7142be": {
       "attrs": {
        "height": 0.8,
        "width": 0.8,
        "x": 0.1,
        "y": 0.1
       },
       "content": {
        "cell": "4251e8e0-159a-4293-b765-14a25e092778",
        "part": "whole"
       },
       "id": "71e046c6-2858-44f2-b7e8-6020bf7142be"
      }
     }
    }
   },
   "themes": {}
  }
 },
 "nbformat": 4,
 "nbformat_minor": 2
}
